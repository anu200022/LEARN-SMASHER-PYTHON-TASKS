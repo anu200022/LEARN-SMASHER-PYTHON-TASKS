{
  "cells": [
    {
      "cell_type": "code",
      "execution_count": 2,
      "id": "ae1a566f",
      "metadata": {
        "colab": {
          "base_uri": "https://localhost:8080/"
        },
        "id": "ae1a566f",
        "outputId": "87a59c4c-6ac7-47c9-8039-0d0644c3e5e5"
      },
      "outputs": [
        {
          "output_type": "stream",
          "name": "stdout",
          "text": [
            "Welcome to the Dice Roll Simulator!\n",
            "Press Enter to roll the dice...\n",
            "The dice shows: 4\n",
            "Roll the dice again? (yes/no): yes\n",
            "Press Enter to roll the dice...\n",
            "The dice shows: 4\n",
            "Roll the dice again? (yes/no): y\n",
            "Press Enter to roll the dice... \n",
            "The dice shows: 2\n",
            "Roll the dice again? (yes/no): y\n",
            "Press Enter to roll the dice...\n",
            "The dice shows: 4\n",
            "Roll the dice again? (yes/no): \n",
            "Thank you for using the Dice Roll Simulator!\n"
          ]
        }
      ],
      "source": [
        "import random\n",
        "\n",
        "def roll_dice():\n",
        "    min_val = 1\n",
        "    max_val = 6\n",
        "    return random.randint(min_val, max_val)\n",
        "\n",
        "# Simulate the dice roll\n",
        "print(\"Welcome to the Dice Roll Simulator!\")\n",
        "roll_again = True\n",
        "\n",
        "while roll_again:\n",
        "    input(\"Press Enter to roll the dice...\")\n",
        "    result = roll_dice()\n",
        "    print(f\"The dice shows: {result}\")\n",
        "\n",
        "    choice = input(\"Roll the dice again? (yes/no): \").lower()\n",
        "    roll_again = choice in ['yes', 'y']\n",
        "\n",
        "print(\"Thank you for using the Dice Roll Simulator!\")\n"
      ]
    },
    {
      "cell_type": "code",
      "execution_count": null,
      "id": "ad46ba2e",
      "metadata": {
        "id": "ad46ba2e"
      },
      "outputs": [],
      "source": []
    }
  ],
  "metadata": {
    "kernelspec": {
      "display_name": "Python 3",
      "language": "python",
      "name": "python3"
    },
    "language_info": {
      "codemirror_mode": {
        "name": "ipython",
        "version": 3
      },
      "file_extension": ".py",
      "mimetype": "text/x-python",
      "name": "python",
      "nbconvert_exporter": "python",
      "pygments_lexer": "ipython3",
      "version": "3.8.8"
    },
    "colab": {
      "provenance": []
    }
  },
  "nbformat": 4,
  "nbformat_minor": 5
}