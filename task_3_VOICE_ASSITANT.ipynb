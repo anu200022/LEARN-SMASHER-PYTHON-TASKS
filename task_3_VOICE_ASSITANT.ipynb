{
  "cells": [
    {
      "cell_type": "code",
      "execution_count": null,
      "id": "eae3c25d",
      "metadata": {
        "id": "eae3c25d",
        "outputId": "f5ba85b0-c6a0-40b7-f5ae-f83e072ad717"
      },
      "outputs": [
        {
          "name": "stdout",
          "output_type": "stream",
          "text": [
            "Collecting pyaudio\n",
            "  Downloading PyAudio-0.2.13-cp38-cp38-win_amd64.whl (164 kB)\n",
            "Installing collected packages: pyaudio\n",
            "Successfully installed pyaudio-0.2.13\n",
            "Listening...\n",
            "Sorry, I didn't catch that.\n"
          ]
        }
      ],
      "source": [
        "!pip install pyaudio\n",
        "import speech_recognition as sr\n",
        "import pyttsx3\n",
        "\n",
        "# Initialize the speech recognizer and text-to-speech engine\n",
        "r = sr.Recognizer()\n",
        "engine = pyttsx3.init()\n",
        "\n",
        "# Define a function to listen to the user's voice input\n",
        "def listen():\n",
        "    with sr.Microphone() as source:\n",
        "        print(\"Listening...\")\n",
        "        audio = r.listen(source)\n",
        "    try:\n",
        "        text = r.recognize_google(audio)\n",
        "        print(\"You said: \", text)\n",
        "        return text\n",
        "    except:\n",
        "        print(\"Sorry, I didn't catch that.\")\n",
        "        return \"\"\n",
        "\n",
        "# Define a function to speak the given text\n",
        "def speak(text):\n",
        "    engine.say(text)\n",
        "    engine.runAndWait()\n",
        "\n",
        "\n"
      ]
    },
    {
      "cell_type": "code",
      "execution_count": null,
      "id": "dd507b4c",
      "metadata": {
        "id": "dd507b4c",
        "outputId": "82e7c199-b7d0-4235-ebc5-40714484ea8a"
      },
      "outputs": [
        {
          "name": "stdout",
          "output_type": "stream",
          "text": [
            "Listening...\n",
            "You said:  Doraemon Doraemon\n"
          ]
        }
      ],
      "source": [
        "speak(\"Hello, how can I assist you?\")\n",
        "text = listen()\n",
        "speak(\"You said: \" + text)"
      ]
    },
    {
      "cell_type": "code",
      "execution_count": null,
      "id": "3653ce81",
      "metadata": {
        "id": "3653ce81"
      },
      "outputs": [],
      "source": []
    },
    {
      "cell_type": "code",
      "execution_count": null,
      "id": "6bfbc5cf",
      "metadata": {
        "id": "6bfbc5cf"
      },
      "outputs": [],
      "source": []
    }
  ],
  "metadata": {
    "kernelspec": {
      "display_name": "Python 3",
      "language": "python",
      "name": "python3"
    },
    "language_info": {
      "codemirror_mode": {
        "name": "ipython",
        "version": 3
      },
      "file_extension": ".py",
      "mimetype": "text/x-python",
      "name": "python",
      "nbconvert_exporter": "python",
      "pygments_lexer": "ipython3",
      "version": "3.8.8"
    },
    "colab": {
      "provenance": []
    }
  },
  "nbformat": 4,
  "nbformat_minor": 5
}