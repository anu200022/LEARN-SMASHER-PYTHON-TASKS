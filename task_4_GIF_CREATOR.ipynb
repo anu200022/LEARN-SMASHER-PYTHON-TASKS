{
  "cells": [
    {
      "cell_type": "code",
      "execution_count": null,
      "id": "14073d0a",
      "metadata": {
        "id": "14073d0a"
      },
      "outputs": [],
      "source": [
        "import imageio\n"
      ]
    },
    {
      "cell_type": "code",
      "execution_count": null,
      "id": "a9e0aacc",
      "metadata": {
        "id": "a9e0aacc"
      },
      "outputs": [],
      "source": [
        "#Importing modules\n",
        "import glob\n",
        "from tkinter import *\n",
        "from tkinter import filedialog\n",
        "from tkinter import messagebox\n",
        "from path import Path\n",
        "import imageio\n",
        "\n",
        "#Function to convert Images to GIF\n",
        "def convertToGIF():\n",
        "    path = direc.get() #Get the path of the folder entered by the user\n",
        "    ext=extension.get() #Get the extension png or jpeg\n",
        "    path_in =path+'/*.'+ext #Creating the final path of the images\n",
        "    path_out = path+\"/MyGif.gif\" #Creating the path for GIF in the same folder as the images\n",
        "\n",
        "    imgs=[] #list to store all the images\n",
        "    try:\n",
        "        file = glob.glob(path_in, recursive = True) #Recursively getting the paths of all the images in the folder\n",
        "        for im in file:\n",
        "            imgs.append(imageio.imread(im)) #Reading all the images\n",
        "\n",
        "        imageio.mimsave(path_out, imgs) #Converting the images to GIF and saving it\n",
        "        #Showing the message box on saving the gif\n",
        "        messagebox.showinfo(\"ANUBHA GIF Generator\",\"GIF is saved successfully in the folder with Images!\")\n",
        "    except:\n",
        "        #Showing a message if not able to collect the images or convert them to gif\n",
        "        messagebox.showinfo(\"Error occured!\",\"Please check the path of the folder or the extension of images.\")\n",
        "\n",
        "#Creating the window\n",
        "wn = Tk()\n",
        "wn.title(\"ANUBHA  GIF Creator\")\n",
        "wn.geometry('500x300')\n",
        "wn.config(bg='azure')\n",
        "\n",
        "#Creating the variables to get the path of folder and the extension of images\n",
        "extension = StringVar(wn)\n",
        "direc=StringVar(wn)\n",
        "\n",
        "#The main label\n",
        "Label(wn, text='ANUBHA GIF Creator',bg='azure',\n",
        "  fg='black', font=('Times', 20,'bold')).place(x=60, y=10)\n",
        "\n",
        "#Getting the extension of the image as either png or jpeg\n",
        "Label(wn, text='Please select the extension of the images',bg='azure2', anchor=\"e\", justify=LEFT).place(x=20, y=70)\n",
        "\n",
        "Radiobutton(wn, text='png',bg='azure2', variable=extension, value='png').place(x=50,y=100)\n",
        "Radiobutton(wn, text='jpeg',bg='azure2',variable=extension, value='jpeg').place(x=150,y=100)\n",
        "\n",
        "#Getting the path of the folder with the images\n",
        "Label(wn, text='Please enter the folder location where images exist',bg='azure2', anchor=\"e\", justify=LEFT).place(x=20, y=130)\n",
        "\n",
        "Entry(wn,textvariable=direc, width=35, font=('calibre',10,'normal')).place(x=200,y=160)\n",
        "\n",
        "#Button to convert the images into GIF and save the GIF\n",
        "Label(wn, text='Please click the button to get the GIF', bg='azure2',anchor=\"e\", justify=LEFT).place(x=20, y=190)\n",
        "\n",
        "Button(wn, text=\"Click Me\", bg='ivory3',font=('calibre', 13),\n",
        "   command=convertToGIF).place(x=230, y=220)\n",
        "\n",
        "#Runs the window till it is closed by the user\n",
        "wn.mainloop()\n"
      ]
    },
    {
      "cell_type": "code",
      "execution_count": null,
      "id": "de5f10e4",
      "metadata": {
        "id": "de5f10e4"
      },
      "outputs": [],
      "source": []
    },
    {
      "cell_type": "code",
      "execution_count": null,
      "id": "ba211581",
      "metadata": {
        "id": "ba211581"
      },
      "outputs": [],
      "source": []
    }
  ],
  "metadata": {
    "kernelspec": {
      "display_name": "Python 3",
      "language": "python",
      "name": "python3"
    },
    "language_info": {
      "codemirror_mode": {
        "name": "ipython",
        "version": 3
      },
      "file_extension": ".py",
      "mimetype": "text/x-python",
      "name": "python",
      "nbconvert_exporter": "python",
      "pygments_lexer": "ipython3",
      "version": "3.8.8"
    },
    "colab": {
      "provenance": []
    }
  },
  "nbformat": 4,
  "nbformat_minor": 5
}